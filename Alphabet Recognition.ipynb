{
 "cells": [
  {
   "cell_type": "code",
   "execution_count": 16,
   "metadata": {},
   "outputs": [],
   "source": [
    "# Importing the Keras libraries and packages\n",
    "from keras.models import Sequential\n",
    "from keras.layers import Conv2D\n",
    "from keras.layers import MaxPooling2D\n",
    "from keras.layers import Flatten\n",
    "from keras.layers import Dense"
   ]
  },
  {
   "cell_type": "code",
   "execution_count": 21,
   "metadata": {},
   "outputs": [],
   "source": [
    "# Initialising the CNN\n",
    "classifier = Sequential()\n",
    "\n",
    "# Step 1 - Convolution\n",
    "classifier.add(Conv2D(32, (3, 3), input_shape = (32,32,1), activation = 'relu'))\n",
    "\n",
    "# Step 2 - Pooling\n",
    "classifier.add(MaxPooling2D(pool_size = (2, 2)))\n",
    "\n",
    "# Adding a second convolutional layer\n",
    "classifier.add(Conv2D(32, (3, 3), activation = 'relu'))\n",
    "classifier.add(MaxPooling2D(pool_size = (2, 2)))\n",
    "\n",
    "# Step 3 - Flattening\n",
    "classifier.add(Flatten())\n",
    "\n",
    "# Step 4 - Full connection\n",
    "classifier.add(Dense(units = 128, activation = 'relu'))\n",
    "classifier.add(Dense(units = 26, activation = 'softmax'))\n",
    "\n",
    "# Compiling the CNN\n",
    "classifier.compile(optimizer = 'adam', loss = 'categorical_crossentropy', metrics = ['accuracy'])\n"
   ]
  },
  {
   "cell_type": "code",
   "execution_count": 24,
   "metadata": {},
   "outputs": [
    {
     "name": "stdout",
     "output_type": "stream",
     "text": [
      "Found 501 images belonging to 26 classes.\n",
      "Found 260 images belonging to 26 classes.\n",
      "Epoch 1/1\n",
      "8000/8000 [==============================] - 144s 18ms/step - loss: 0.0113 - acc: 0.9953 - val_loss: 0.1460 - val_acc: 0.9500\n"
     ]
    },
    {
     "data": {
      "text/plain": [
       "<keras.callbacks.History at 0x7f34a1f10cc0>"
      ]
     },
     "execution_count": 24,
     "metadata": {},
     "output_type": "execute_result"
    }
   ],
   "source": [
    "# Part 2 - Fitting the CNN to the images\n",
    "\n",
    "from keras.preprocessing.image import ImageDataGenerator\n",
    "\n",
    "train_datagen = ImageDataGenerator(rescale = 1./255,\n",
    "                                   shear_range = 0.2,\n",
    "                                   zoom_range = 0.2,\n",
    "                                   horizontal_flip = True)\n",
    "\n",
    "test_datagen = ImageDataGenerator(rescale = 1./255)\n",
    "\n",
    "training_set = train_datagen.flow_from_directory('/home/karan/Downloads/Dataset/English Alphabet Dataset/Training',\n",
    "                                                 target_size = (32, 32),\n",
    "                                                 batch_size = 32,\n",
    "                                                 class_mode = 'categorical')\n",
    "\n",
    "test_set = test_datagen.flow_from_directory('/home/karan/Downloads/Dataset/English Alphabet Dataset/Testing',\n",
    "                                            target_size = (32, 32),\n",
    "                                            batch_size = 32,\n",
    "                                            class_mode = 'categorical')\n",
    "\n",
    "classifier.fit_generator(training_set,\n",
    "                         steps_per_epoch = 8000,\n",
    "                         epochs = 1,\n",
    "                         validation_data = test_set,\n",
    "                         validation_steps = 2000)"
   ]
  },
  {
   "cell_type": "code",
   "execution_count": 33,
   "metadata": {},
   "outputs": [],
   "source": [
    "# Part 3 - Making new predictions\n",
    "\n",
    "import numpy as np\n",
    "from keras.preprocessing import image\n",
    "test_image = image.load_img('/home/karan/Downloads/Dataset/English Alphabet Dataset/21.png', target_size = (32,32))\n",
    "test_image = image.img_to_array(test_image)\n",
    "test_image = np.expand_dims(test_image, axis = 0)\n",
    "result = classifier.predict(test_image)"
   ]
  },
  {
   "cell_type": "code",
   "execution_count": 34,
   "metadata": {},
   "outputs": [
    {
     "name": "stdout",
     "output_type": "stream",
     "text": [
      "a\n"
     ]
    }
   ],
   "source": [
    "if result[0][0] == 1:\n",
    "    print('a')\n",
    "elif result[0][1] == 1:\n",
    "    print('b')\n",
    "elif result[0][2] == 1:\n",
    "    print('c')\n",
    "elif result[0][3] == 1:\n",
    "    print('d')\n",
    "elif result[0][4] == 1:\n",
    "    print('e')\n",
    "elif result[0][5] == 1:\n",
    "    print('f')\n",
    "elif result[0][6] == 1:\n",
    "    print('g')\n",
    "elif result[0][7] == 1:\n",
    "    print('h')\n",
    "elif result[0][8] == 1:\n",
    "    print('i')\n",
    "elif result[0][9] == 1:\n",
    "    print('j')\n",
    "elif result[0][10] == 1:\n",
    "    print('k')\n",
    "elif result[0][11] == 1:\n",
    "    print('l')\n",
    "elif result[0][12] == 1:\n",
    "    print('m')\n",
    "elif result[0][13] == 1:\n",
    "    print('n')\n",
    "elif result[0][14] == 1:\n",
    "    print('o')\n",
    "elif result[0][15] == 1:\n",
    "    print('p')\n",
    "elif result[0][16] == 1:\n",
    "    print('q')\n",
    "elif result[0][17] == 1:\n",
    "    print('r')\n",
    "elif result[0][18] == 1:\n",
    "    print('s')\n",
    "elif result[0][19] == 1:\n",
    "    print('t')\n",
    "elif result[0][20] == 1:\n",
    "    print('u')\n",
    "elif result[0][21] == 1:\n",
    "    print('v')\n",
    "elif result[0][22] == 1:\n",
    "    print('w')\n",
    "elif result[0][23] == 1:\n",
    "    print('x')\n",
    "elif result[0][24] == 1:\n",
    "    print('y')\n",
    "elif result[0][25] == 1:\n",
    "    print('z')"
   ]
  }
 ],
 "metadata": {
  "kernelspec": {
   "display_name": "Python 3",
   "language": "python",
   "name": "python3"
  },
  "language_info": {
   "codemirror_mode": {
    "name": "ipython",
    "version": 3
   },
   "file_extension": ".py",
   "mimetype": "text/x-python",
   "name": "python",
   "nbconvert_exporter": "python",
   "pygments_lexer": "ipython3",
   "version": "3.6.5"
  }
 },
 "nbformat": 4,
 "nbformat_minor": 2
}
